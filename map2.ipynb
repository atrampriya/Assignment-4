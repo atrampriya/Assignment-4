{
 "cells": [
  {
   "cell_type": "code",
   "execution_count": 1,
   "id": "a59054ab",
   "metadata": {},
   "outputs": [
    {
     "name": "stdout",
     "output_type": "stream",
     "text": [
      "Enter required data: 1\n",
      "Enter required data: 2\n",
      "Enter required data: 3\n",
      "Enter required data: 4\n",
      "Enter required data: 5\n",
      "Enter required data: 6\n",
      "Enter required data: 7\n",
      "[3, 6, 9, 12, 15, 18, 21]\n"
     ]
    }
   ],
   "source": [
    "n = 8\n",
    "lst = []\n",
    "for i in range(1,n):\n",
    "    x = int(input(\"Enter required data: \"))\n",
    "    lst.append(x)\n",
    "def triple(a):\n",
    "    return a*3\n",
    "y = list(map(triple,lst))\n",
    "print(y)"
   ]
  }
 ],
 "metadata": {
  "kernelspec": {
   "display_name": "Python 3 (ipykernel)",
   "language": "python",
   "name": "python3"
  },
  "language_info": {
   "codemirror_mode": {
    "name": "ipython",
    "version": 3
   },
   "file_extension": ".py",
   "mimetype": "text/x-python",
   "name": "python",
   "nbconvert_exporter": "python",
   "pygments_lexer": "ipython3",
   "version": "3.10.2"
  }
 },
 "nbformat": 4,
 "nbformat_minor": 5
}
